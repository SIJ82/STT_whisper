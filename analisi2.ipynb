{
 "cells": [
  {
   "cell_type": "code",
   "execution_count": 1,
   "metadata": {},
   "outputs": [],
   "source": [
    "import pandas as pd\n",
    "from IPython.display import display\n",
    "from pandas import DataFrame\n",
    "import matplotlib.pyplot as plt\n",
    "import numpy as np\n",
    "\n",
    "\n",
    "dataset = pd.read_csv(\"/models/it/validated.tsv\", sep=\"\\t\")\n",
    "dataset=dataset.drop(columns=[\"client_id\", \"sentence_id\", \"sentence_domain\", \"up_votes\", \"down_votes\", \"age\", \"gender\", \"accents\", \"variant\", \"locale\", \"segment\"])\n",
    "i7 = pd.read_csv(\"./data/results.csv\")\n",
    "r4_core_4096_MB = pd.read_csv(\"./data/r4_core_4096_MB.csv\")"
   ]
  },
  {
   "cell_type": "code",
   "execution_count": 8,
   "metadata": {},
   "outputs": [
    {
     "data": {
      "text/html": [
       "<div>\n",
       "<style scoped>\n",
       "    .dataframe tbody tr th:only-of-type {\n",
       "        vertical-align: middle;\n",
       "    }\n",
       "\n",
       "    .dataframe tbody tr th {\n",
       "        vertical-align: top;\n",
       "    }\n",
       "\n",
       "    .dataframe thead th {\n",
       "        text-align: right;\n",
       "    }\n",
       "</style>\n",
       "<table border=\"1\" class=\"dataframe\">\n",
       "  <thead>\n",
       "    <tr style=\"text-align: right;\">\n",
       "      <th></th>\n",
       "      <th>path</th>\n",
       "      <th>sentence</th>\n",
       "    </tr>\n",
       "  </thead>\n",
       "  <tbody>\n",
       "    <tr>\n",
       "      <th>0</th>\n",
       "      <td>common_voice_it_23606167.mp3</td>\n",
       "      <td>Il libro ha suscitato molte polemiche a causa ...</td>\n",
       "    </tr>\n",
       "    <tr>\n",
       "      <th>1</th>\n",
       "      <td>common_voice_it_40457039.mp3</td>\n",
       "      <td>Anche nella serie televisiva \"Birds of Prey\" c...</td>\n",
       "    </tr>\n",
       "    <tr>\n",
       "      <th>2</th>\n",
       "      <td>common_voice_it_40283173.mp3</td>\n",
       "      <td>Dopo di che, i plotoni attaccarono per consoli...</td>\n",
       "    </tr>\n",
       "    <tr>\n",
       "      <th>3</th>\n",
       "      <td>common_voice_it_20045040.mp3</td>\n",
       "      <td>Fin dall'inizio la sede episcopale è stata imm...</td>\n",
       "    </tr>\n",
       "    <tr>\n",
       "      <th>4</th>\n",
       "      <td>common_voice_it_26970935.mp3</td>\n",
       "      <td>Fu il fondatore di molti chiostri, ospedali e ...</td>\n",
       "    </tr>\n",
       "    <tr>\n",
       "      <th>...</th>\n",
       "      <td>...</td>\n",
       "      <td>...</td>\n",
       "    </tr>\n",
       "    <tr>\n",
       "      <th>95</th>\n",
       "      <td>common_voice_it_18281351.mp3</td>\n",
       "      <td>Spinta: è la fase in cui il braccio effettuerà...</td>\n",
       "    </tr>\n",
       "    <tr>\n",
       "      <th>96</th>\n",
       "      <td>common_voice_it_22121196.mp3</td>\n",
       "      <td>Tra le antologie da lui allestite si ricorda \"...</td>\n",
       "    </tr>\n",
       "    <tr>\n",
       "      <th>97</th>\n",
       "      <td>common_voice_it_40060582.mp3</td>\n",
       "      <td>Pur rientrando nel genere christian rock, spes...</td>\n",
       "    </tr>\n",
       "    <tr>\n",
       "      <th>98</th>\n",
       "      <td>common_voice_it_27334666.mp3</td>\n",
       "      <td>Lavorò per lo più nel campo delle funzioni di ...</td>\n",
       "    </tr>\n",
       "    <tr>\n",
       "      <th>99</th>\n",
       "      <td>common_voice_it_19998125.mp3</td>\n",
       "      <td>Tramite il cassetto degli stampi si accede ad ...</td>\n",
       "    </tr>\n",
       "  </tbody>\n",
       "</table>\n",
       "<p>100 rows × 2 columns</p>\n",
       "</div>"
      ],
      "text/plain": [
       "                            path  \\\n",
       "0   common_voice_it_23606167.mp3   \n",
       "1   common_voice_it_40457039.mp3   \n",
       "2   common_voice_it_40283173.mp3   \n",
       "3   common_voice_it_20045040.mp3   \n",
       "4   common_voice_it_26970935.mp3   \n",
       "..                           ...   \n",
       "95  common_voice_it_18281351.mp3   \n",
       "96  common_voice_it_22121196.mp3   \n",
       "97  common_voice_it_40060582.mp3   \n",
       "98  common_voice_it_27334666.mp3   \n",
       "99  common_voice_it_19998125.mp3   \n",
       "\n",
       "                                             sentence  \n",
       "0   Il libro ha suscitato molte polemiche a causa ...  \n",
       "1   Anche nella serie televisiva \"Birds of Prey\" c...  \n",
       "2   Dopo di che, i plotoni attaccarono per consoli...  \n",
       "3   Fin dall'inizio la sede episcopale è stata imm...  \n",
       "4   Fu il fondatore di molti chiostri, ospedali e ...  \n",
       "..                                                ...  \n",
       "95  Spinta: è la fase in cui il braccio effettuerà...  \n",
       "96  Tra le antologie da lui allestite si ricorda \"...  \n",
       "97  Pur rientrando nel genere christian rock, spes...  \n",
       "98  Lavorò per lo più nel campo delle funzioni di ...  \n",
       "99  Tramite il cassetto degli stampi si accede ad ...  \n",
       "\n",
       "[100 rows x 2 columns]"
      ]
     },
     "metadata": {},
     "output_type": "display_data"
    }
   ],
   "source": [
    "display (dataset.head(100))"
   ]
  },
  {
   "cell_type": "code",
   "execution_count": 3,
   "metadata": {},
   "outputs": [
    {
     "name": "stdout",
     "output_type": "stream",
     "text": [
      "common_voice_it_23606167.mp3 \t Il libro ha suscitato molte polemiche a causa dei suoi contenuti.\n",
      "common_voice_it_40457039.mp3 \t Anche nella serie televisiva \"Birds of Prey\" comparvero i batarang.\n",
      "common_voice_it_40283173.mp3 \t Dopo di che, i plotoni attaccarono per consolidare la loro posizione.\n",
      "common_voice_it_20045040.mp3 \t Fin dall'inizio la sede episcopale è stata immediatamente soggetta alla Santa Sede.\n",
      "common_voice_it_26970935.mp3 \t Fu il fondatore di molti chiostri, ospedali e chiese.\n",
      "common_voice_it_17544185.mp3 \t Il vuoto assoluto?\n",
      "common_voice_it_20042813.mp3 \t Dopo alcuni anni, egli decise di tornare in India per raccogliere altri insegnamenti.\n",
      "common_voice_it_21916542.mp3 \t Salvation Sue\n",
      "common_voice_it_20268831.mp3 \t In questo modo, Decio ottenne il potere imperiale.\n",
      "common_voice_it_20069601.mp3 \t Sparta Novara acquisisce il titolo sportivo per giocare in Prima Categoria.\n"
     ]
    }
   ],
   "source": [
    "for i in range(10):\n",
    "    print(dataset.iloc[i][\"path\"],\"\\t\", dataset.iloc[i][\"sentence\"])"
   ]
  },
  {
   "cell_type": "code",
   "execution_count": 5,
   "metadata": {},
   "outputs": [
    {
     "name": "stdout",
     "output_type": "stream",
     "text": [
      "238164\n"
     ]
    }
   ],
   "source": [
    "print(len(dataset))"
   ]
  }
 ],
 "metadata": {
  "kernelspec": {
   "display_name": ".venv",
   "language": "python",
   "name": "python3"
  },
  "language_info": {
   "codemirror_mode": {
    "name": "ipython",
    "version": 3
   },
   "file_extension": ".py",
   "mimetype": "text/x-python",
   "name": "python",
   "nbconvert_exporter": "python",
   "pygments_lexer": "ipython3",
   "version": "3.12.5"
  }
 },
 "nbformat": 4,
 "nbformat_minor": 2
}
